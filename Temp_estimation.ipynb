{
 "cells": [
  {
   "cell_type": "code",
   "execution_count": 1,
   "metadata": {
    "collapsed": true
   },
   "outputs": [],
   "source": [
    "import numpy as np\n",
    "import pandas as pd\n",
    "from scipy import signal\n",
    "from scipy.linalg import eig\n",
    "from matplotlib.gridspec import GridSpec, GridSpecFromSubplotSpec\n",
    "import matplotlib as mpl\n",
    "import matplotlib.pyplot as plt\n",
    "import particle_filters as pf\n",
    "\n",
    "import pyhsmm\n",
    "import pyhsmm.basic.distributions as distributions\n",
    "from pyhsmm.util.general import rle\n",
    "\n",
    "from pyhsmm.plugins.factorial.models import Factorial, FactorialComponentHSMM\n",
    "from pyhsmm.internals.transitions import HDPHSMMTransitions\n",
    "from pyhsmm.internals.initial_state import Uniform\n",
    "\n",
    "import ast\n",
    "import sys\n",
    "import time\n",
    "\n",
    "%matplotlib inline"
   ]
  },
  {
   "cell_type": "code",
   "execution_count": 2,
   "metadata": {
    "collapsed": true
   },
   "outputs": [],
   "source": [
    "theta = 20.\n",
    "theta_out = 17.\n",
    "lmbda = 0.5\n",
    "gamma = 1.3\n",
    "state = 1\n"
   ]
  },
  {
   "cell_type": "code",
   "execution_count": 3,
   "metadata": {
    "collapsed": true
   },
   "outputs": [],
   "source": [
    "def next_theta(theta,state,theta_out,lmbda,gamma):\n",
    "    return theta - lmbda * (theta - theta_out) + gamma*state"
   ]
  },
  {
   "cell_type": "code",
   "execution_count": 4,
   "metadata": {
    "collapsed": false
   },
   "outputs": [
    {
     "data": {
      "text/plain": [
       "19.8"
      ]
     },
     "execution_count": 4,
     "metadata": {},
     "output_type": "execute_result"
    }
   ],
   "source": [
    "theta_next = next_theta(20.,1,17.,0.5,1.3)\n",
    "theta_next"
   ]
  },
  {
   "cell_type": "code",
   "execution_count": 5,
   "metadata": {
    "collapsed": true
   },
   "outputs": [],
   "source": [
    "theta_hat = theta\n",
    "lmbda_hat = 0.6\n",
    "gamma_hat = 1.1\n",
    "state_hat = 1"
   ]
  },
  {
   "cell_type": "code",
   "execution_count": 6,
   "metadata": {
    "collapsed": false
   },
   "outputs": [
    {
     "data": {
      "text/plain": [
       "19.3"
      ]
     },
     "execution_count": 6,
     "metadata": {},
     "output_type": "execute_result"
    }
   ],
   "source": [
    "theta_next_hat = next_theta(20.,1,17.,0.6,1.1)\n",
    "theta_next_hat"
   ]
  },
  {
   "cell_type": "code",
   "execution_count": 7,
   "metadata": {
    "collapsed": false
   },
   "outputs": [
    {
     "data": {
      "text/plain": [
       "array([0, 1, 0, 0, 1, 1, 1, 0, 1, 1, 0, 1, 1, 0, 1, 0, 1, 0, 0, 1])"
      ]
     },
     "execution_count": 7,
     "metadata": {},
     "output_type": "execute_result"
    }
   ],
   "source": [
    "np.random.binomial(size=20,p=0.5,n=1)"
   ]
  },
  {
   "cell_type": "code",
   "execution_count": 9,
   "metadata": {
    "collapsed": true
   },
   "outputs": [],
   "source": [
    "def next_theta(theta,state,theta_out,lmbda,gamma):\n",
    "    return theta - lmbda * (theta - theta_out) + gamma*state\n",
    "\n",
    "def theta_seq(n,theta_start,states,theta_out,lmbda,gamma):\n",
    "    assert len(states) == n-1\n",
    "    seq = np.zeros(n)\n",
    "    seq[0] = theta_start\n",
    "    for i in np.arange(1,n):\n",
    "        seq[i] = next_theta(seq[i-1],states[i-1],theta_out,lmbda,gamma)\n",
    "    return seq\n",
    "\n",
    "def gradient_descent(n,theta_start,theta_out,states,lmbda,gamma,epsilon,max_iter):\n",
    "    l = 0.6\n",
    "    g = 1.1\n",
    "    alpha = 0.01\n",
    "    N = 0\n",
    "    \n",
    "    theta_true_seq = theta_seq(n,theta_start,states,theta_out,lmbda,gamma)\n",
    "    theta_true = theta_true_seq[n-1]\n",
    "    theta_hat_seq = theta_seq(n,theta_start,states,theta_out,l,g)\n",
    "    error = theta_hat_seq[n-1] - theta_true\n",
    "    end_test = np.max(np.abs(theta_hat_seq - theta_true_seq))\n",
    "    \n",
    "    while end_test>=epsilon and N<max_iter:\n",
    "        \n",
    "        #l = l - alpha * -2.*(theta_start - theta_out)*error\n",
    "        l = l - alpha * 2.*error*((theta_out - theta_start)*np.power(1.-l,n-1)-np.sum(theta_hat_seq[:n-1]*np.power(1.-l,np.arange(n-1,0,-1))))\n",
    "        g = g - alpha * 2.*error*np.sum(states)\n",
    "        \n",
    "        theta_hat_seq = theta_seq(n,theta_start,states,theta_out,l,g)\n",
    "        error = theta_hat_seq[n-1] - theta_true\n",
    "        end_test = np.max(np.abs(theta_hat_seq - theta_true_seq))\n",
    "        \n",
    "        N += 1\n",
    "    return l, g, theta_hat_seq,end_test,N"
   ]
  },
  {
   "cell_type": "code",
   "execution_count": 10,
   "metadata": {
    "collapsed": false
   },
   "outputs": [
    {
     "data": {
      "text/plain": [
       "array([ 20.        ,  19.8       ,  18.4       ,  19.        ,\n",
       "        18.        ,  17.5       ,  17.25      ,  18.425     ,\n",
       "        19.0125    ,  19.30625   ,  19.453125  ,  18.2265625 ,\n",
       "        18.91328125,  17.95664062,  18.77832031,  19.18916016,\n",
       "        18.09458008,  18.84729004,  19.22364502,  18.11182251])"
      ]
     },
     "execution_count": 10,
     "metadata": {},
     "output_type": "execute_result"
    }
   ],
   "source": [
    "states = np.random.binomial(size=19,p=0.5,n=1)\n",
    "theta_seq(20,20.,states,17.,0.5,1.3)"
   ]
  },
  {
   "cell_type": "code",
   "execution_count": 12,
   "metadata": {
    "collapsed": false
   },
   "outputs": [
    {
     "data": {
      "text/plain": [
       "(0.4785508669874759,\n",
       " 1.2060205014338965,\n",
       " array([ 20.        ,  19.7703679 ,  18.44460594,  18.95930902,\n",
       "         18.02167999,  17.53275414,  17.27780419,  18.35088125,\n",
       "         18.91043636,  19.20221588,  19.35436407,  18.2276811 ,\n",
       "         18.84619375,  17.96269613,  18.70801756,  19.09666478,\n",
       "         18.09330403,  18.77612294,  19.13217827,  18.11182251]),\n",
       " 0.10403411500725923,\n",
       " 10000)"
      ]
     },
     "execution_count": 12,
     "metadata": {},
     "output_type": "execute_result"
    }
   ],
   "source": [
    "gradient_descent(20,20.,17.,states,0.5,1.3,0.001,10000)"
   ]
  }
 ],
 "metadata": {
  "kernelspec": {
   "display_name": "Python (hmm_factorial)",
   "language": "python",
   "name": "hmm_factorial"
  },
  "language_info": {
   "codemirror_mode": {
    "name": "ipython",
    "version": 2
   },
   "file_extension": ".py",
   "mimetype": "text/x-python",
   "name": "python",
   "nbconvert_exporter": "python",
   "pygments_lexer": "ipython2",
   "version": "2.7.13"
  }
 },
 "nbformat": 4,
 "nbformat_minor": 2
}
